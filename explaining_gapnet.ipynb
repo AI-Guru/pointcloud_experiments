{
 "cells": [
  {
   "cell_type": "code",
   "execution_count": null,
   "metadata": {},
   "outputs": [],
   "source": [
    "%matplotlib inline\n",
    "import matplotlib.pyplot as plt\n",
    "from mpl_toolkits.mplot3d import Axes3D\n",
    "from gapnet.models import GAPNet\n",
    "from data_loader import DataGenerator\n",
    "import numpy as np"
   ]
  },
  {
   "cell_type": "code",
   "execution_count": null,
   "metadata": {},
   "outputs": [],
   "source": [
    "model_weights_path = \"logs/gapnet/05-first_full_network/model_weights.h5\"\n",
    "model = GAPNet()\n",
    "model.load_weights(model_weights_path)\n",
    "\n",
    "explain_model = model.create_explaining_model()"
   ]
  },
  {
   "cell_type": "code",
   "execution_count": null,
   "metadata": {},
   "outputs": [],
   "source": [
    "# Data preparation.\n",
    "test_file = './ModelNet40/ply_data_test.h5'\n",
    "\n",
    "# Hyperparameters.\n",
    "nb_classes = 40\n",
    "number_of_points = 1024\n",
    "epochs = 100\n",
    "batch_size = 1\n",
    "\n",
    "# Data generators for training and validation.\n",
    "val = DataGenerator(test_file, batch_size, number_of_points, nb_classes, train=True).generator() "
   ]
  },
  {
   "cell_type": "code",
   "execution_count": null,
   "metadata": {},
   "outputs": [],
   "source": [
    "def render_pointcloud(points, title=None):\n",
    "    \"\"\"\n",
    "    Renders a point-cloud.\n",
    "    \"\"\"\n",
    "\n",
    "    fig = plt.figure(figsize=(10, 10))\n",
    "    ax = fig.add_subplot(111, projection='3d')\n",
    "\n",
    "    ax.scatter(points[:,0], points[:,1], points[:,2], s=4.0, cmap=\"gray\", alpha=0.5)\n",
    "\n",
    "    ax.set_xlabel(\"x\")\n",
    "    ax.set_ylabel(\"y\")\n",
    "    ax.set_zlabel(\"z\")\n",
    "\n",
    "    if title != None:\n",
    "        plt.title(title)\n",
    "\n",
    "    plt.show()\n",
    "    plt.close()\n",
    "\n",
    "def render_attention(attention):\n",
    "    plt.imshow(np.squeeze(attention))\n",
    "    \n",
    "    plt.show()\n",
    "    plt.close()\n",
    "\n",
    "# Get a sample and render it.    \n",
    "sample = next(val)[0]\n",
    "render_pointcloud(sample[0])\n",
    "\n",
    "# Use the model for prediction.\n",
    "prediction = explain_model.predict(sample)\n",
    "\n",
    "# Render the transformed pointcloud.\n",
    "point_cloud_transformed = prediction[0][0]\n",
    "render_pointcloud(point_cloud_transformed)\n",
    "\n",
    "# Render the one head attention.\n",
    "one_head_attention = prediction[1][0]\n",
    "render_attention(one_head_attention)\n",
    "\n",
    "# Render the four head attention.\n",
    "four_head_attention = prediction[2][0]\n",
    "render_attention(four_head_attention)\n"
   ]
  },
  {
   "cell_type": "code",
   "execution_count": null,
   "metadata": {},
   "outputs": [],
   "source": []
  },
  {
   "cell_type": "code",
   "execution_count": null,
   "metadata": {},
   "outputs": [],
   "source": []
  }
 ],
 "metadata": {
  "kernelspec": {
   "display_name": "Python 3",
   "language": "python",
   "name": "python3"
  },
  "language_info": {
   "codemirror_mode": {
    "name": "ipython",
    "version": 3
   },
   "file_extension": ".py",
   "mimetype": "text/x-python",
   "name": "python",
   "nbconvert_exporter": "python",
   "pygments_lexer": "ipython3",
   "version": "3.6.5"
  }
 },
 "nbformat": 4,
 "nbformat_minor": 2
}
